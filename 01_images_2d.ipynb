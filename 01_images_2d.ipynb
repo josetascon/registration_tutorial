{
 "cells": [
  {
   "cell_type": "markdown",
   "metadata": {},
   "source": [
    "<h1><center>SimpleITK Tutorial</center></h1>\n",
    "\n",
    "# 2D Images with SimpleITK\n",
    "\n",
    "Author: José D. Tascón-Vidarte \\\n",
    "Email: jota@di.ku.dk \\\n",
    "University of Copenhagen\n",
    "\n",
    "Objectives:\n",
    "- Learn how to create images with SimpleITK\n",
    "- Reading images and show its properties\n",
    "- Plotting images with numpy and matplotlib\n",
    "\n",
    "The documentation of SimpleITK is available at https://itk.org/SimpleITKDoxygen100/html/index.html\n",
    "\n",
    "This tutorial is based on the Notebooks provided by the Insight Software Consortium. http://insightsoftwareconsortium.github.io/SimpleITK-Notebooks/"
   ]
  },
  {
   "cell_type": "markdown",
   "metadata": {},
   "source": [
    "##  Cloning files\n",
    "\n",
    "Open the files to be used from github."
   ]
  },
  {
   "cell_type": "code",
   "execution_count": 1,
   "metadata": {},
   "outputs": [],
   "source": [
    "# !git clone https://github.com/josetascon/registration_tutorial.git"
   ]
  },
  {
   "cell_type": "markdown",
   "metadata": {},
   "source": [
    "## Import Libraries\n",
    "\n",
    "Import the libraries to be used."
   ]
  },
  {
   "cell_type": "code",
   "execution_count": 2,
   "metadata": {},
   "outputs": [],
   "source": [
    "# !pip install simpleitk           # install simpleitk in colabs\n",
    "\n",
    "import SimpleITK as sitk         # simpleitk library\n",
    "import numpy as np               # array and matrix library\n",
    "import matplotlib.pyplot as plt  # plot library"
   ]
  },
  {
   "cell_type": "markdown",
   "metadata": {},
   "source": [
    "Check the actual version of SimpleITK"
   ]
  },
  {
   "cell_type": "code",
   "execution_count": 3,
   "metadata": {},
   "outputs": [
    {
     "name": "stdout",
     "output_type": "stream",
     "text": [
      "SimpleITK Version: 1.2.0.dev298-gaffed (ITK 4.13)\n",
      "Compiled: Oct 26 2018 13:47:38\n",
      "\n"
     ]
    }
   ],
   "source": [
    "print(sitk.Version())"
   ]
  },
  {
   "cell_type": "markdown",
   "metadata": {},
   "source": [
    "## The Image Class\n",
    "\n",
    "The most important class in SimpleITK is the Image Class. Several algorithms (functions) use this class as an input parameter.\n",
    "\n",
    "The constructor of the image class is: <b>sitk.Image(...)</b>\n",
    "\n",
    "- A monochromatic 2D image is created with three inputs: width, height, PixelIDValueEnum.\n",
    "\n",
    "- An RGB or any other multichannel image is created with the imputs: [width, height] , PixelIDValueEnum, channels\n",
    "\n",
    "An example of this is:\n",
    "\n"
   ]
  },
  {
   "cell_type": "code",
   "execution_count": 4,
   "metadata": {},
   "outputs": [],
   "source": [
    "image_2d = sitk.Image(400, 300, sitk.sitkFloat32)\n",
    "image_rgb = sitk.Image([256,128], sitk.sitkVectorUInt16, 3) # multichannel image, RGB"
   ]
  },
  {
   "cell_type": "markdown",
   "metadata": {},
   "source": [
    "PixelIDValueEnum refers to the pixel type. The options for monochromatic images are presented in left, while the multichannel options in right:\n",
    "\n",
    "<table>  \n",
    "    <thead><tr><th>Pixel Type</th><th>Description</th><th>|</th>\n",
    "        <th>Multichannel Type</th><th>Description</th></tr>\n",
    "    </thead>\n",
    "    <tr><td>sitkUInt8</td><td>Unsigned 8 bit integer</td><td>|</td>\n",
    "        <td>sitkVectorUInt8</td><td>Multi-component of unsigned 8 bit integer</td>\n",
    "    </tr>\n",
    "    <tr><td>sitkInt8</td><td>Signed 8 bit integer</td><td>|</td>\n",
    "        <td>sitkVectorInt8</td><td>Multi-component of signed 8 bit integer</td>    \n",
    "    </tr>\n",
    "    <tr><td>sitkUInt16</td><td>Unsigned 16 bit integer</td><td>|</td>\n",
    "        <td>sitkVectorUInt16</td><td>Multi-component of unsigned 16 bit integer</td>\n",
    "    </tr>\n",
    "    <tr><td>sitkInt16</td><td>Signed 16 bit integer</td><td>|</td>\n",
    "        <td>sitkVectorInt16</td><td>Multi-component of signed 16 bit integer</td>\n",
    "    </tr>\n",
    "    <tr><td>sitkUInt32</td><td>Unsigned 32 bit integer</td><td>|</td>\n",
    "        <td>sitkVectorUInt32</td><td>Multi-component of unsigned 32 bit integer</td>\n",
    "    </tr>\n",
    "    <tr><td>sitkInt32</td><td>Signed 32 bit integer</td><td>|</td>\n",
    "        <td>sitkVectorInt32</td><td>Multi-component of signed 32 bit integer</td>\n",
    "    </tr>\n",
    "    <tr><td>sitkUInt64</td><td>Unsigned 64 bit integer</td><td>|</td>\n",
    "        <td>sitkVectorUInt64</td><td>Multi-component of unsigned 64 bit integer</td>\n",
    "    </tr>\n",
    "    <tr><td>sitkInt64</td><td>Signed 64 bit integer</td><td>|</td>\n",
    "        <td>sitkVectorInt64</td><td>Multi-component of signed 64 bit integer</td>\n",
    "    </tr>\n",
    "    <tr><td>sitkFloat32</td><td>32 bit float</td><td>|</td>\n",
    "        <td>sitkVectorFloat32</td><td>Multi-component of 32 bit float</td>\n",
    "    </tr>\n",
    "    <tr><td>sitkFloat64</td><td>64 bit float</td><td>|</td>\n",
    "        <td>sitkVectorFloat64</td><td>Multi-component of 64 bit float</td>\n",
    "    </tr>\n",
    "</table>"
   ]
  },
  {
   "cell_type": "markdown",
   "metadata": {},
   "source": [
    "## Documentation\n",
    "SimpleITK classes and functions have the Docstrings derived from the C++ definitions and the Doxygen documentation."
   ]
  },
  {
   "cell_type": "code",
   "execution_count": 5,
   "metadata": {},
   "outputs": [
    {
     "name": "stdout",
     "output_type": "stream",
     "text": [
      "Help on class Image in module SimpleITK.SimpleITK:\n",
      "\n",
      "class Image(builtins.object)\n",
      " |  Image(*args)\n",
      " |  \n",
      " |  The main Image class for SimpleITK.\n",
      " |  \n",
      " |  C++ includes: sitkImage.h\n",
      " |  \n",
      " |  Methods defined here:\n",
      " |  \n",
      " |  CopyInformation(self, srcImage)\n",
      " |      CopyInformation(Image self, Image srcImage)\n",
      " |      \n",
      " |      \n",
      " |      \n",
      " |      Copy common meta-data from an image to this one.\n",
      " |      \n",
      " |      \n",
      " |      Copies the Origin, Spacing, and Direction from the source image to\n",
      " |      this image. The meta-data dictionary is not copied.\n",
      " |      \n",
      " |      It is required for the source Image's dimension and size to match, this image's attributes, otherwise an\n",
      " |      exception will be generated.\n",
      " |  \n",
      " |  EraseMetaData(self, key)\n",
      " |      EraseMetaData(Image self, std::string const & key) -> bool\n",
      " |      \n",
      " |      \n",
      " |      \n",
      " |      Remove an entry from the meta-data dictionary.\n",
      " |      \n",
      " |      \n",
      " |      Returns true, when the value exists in the dictionary and is removed,\n",
      " |      false otherwise.\n",
      " |  \n",
      " |  GetDepth(self)\n",
      " |      GetDepth(Image self) -> unsigned int\n",
      " |  \n",
      " |  GetDimension(self)\n",
      " |      GetDimension(Image self) -> unsigned int\n",
      " |  \n",
      " |  GetDirection(self)\n",
      " |      GetDirection(Image self) -> VectorDouble\n",
      " |  \n",
      " |  GetHeight(self)\n",
      " |      GetHeight(Image self) -> unsigned int\n",
      " |  \n",
      " |  GetITKBase(self, *args)\n",
      " |      GetITKBase(Image self) -> itk::DataObject\n",
      " |      GetITKBase(Image self) -> itk::DataObject const *\n",
      " |  \n",
      " |  GetMetaData(self, key)\n",
      " |      GetMetaData(Image self, std::string const & key) -> std::string\n",
      " |      \n",
      " |      \n",
      " |      \n",
      " |      Get the value of a meta-data dictionary entry as a string.\n",
      " |      \n",
      " |      \n",
      " |      If the key is not in the dictionary then an exception is thrown.\n",
      " |      \n",
      " |      string types in the dictionary are returned as their native strings.\n",
      " |      Other types are printed to string before returning.\n",
      " |  \n",
      " |  GetMetaDataKeys(self)\n",
      " |      GetMetaDataKeys(Image self) -> VectorString\n",
      " |      \n",
      " |      \n",
      " |      \n",
      " |      get a vector of keys in from the meta-data dictionary\n",
      " |      \n",
      " |      \n",
      " |      Returns a vector of keys to the key/value entries in the image's meta-\n",
      " |      data dictionary. Iterate through with these keys to get the values.\n",
      " |  \n",
      " |  GetNumberOfComponentsPerPixel(self)\n",
      " |      GetNumberOfComponentsPerPixel(Image self) -> unsigned int\n",
      " |      \n",
      " |      \n",
      " |      \n",
      " |      Get the number of components for each pixel.\n",
      " |      \n",
      " |      \n",
      " |      For scalar images this methods returns 1. For vector images the number\n",
      " |      of components for each pixel is returned.\n",
      " |  \n",
      " |  GetNumberOfPixels(self)\n",
      " |      GetNumberOfPixels(Image self) -> uint64_t\n",
      " |      \n",
      " |      \n",
      " |      \n",
      " |      Get the number of pixels in the image.\n",
      " |      \n",
      " |      \n",
      " |      To Calculate the total number of values stored continuously for the\n",
      " |      image's buffer, the NumberOfPixels should be multiplied by\n",
      " |      NumberOfComponentsPerPixel in order to account for multiple component\n",
      " |      images.\n",
      " |  \n",
      " |  GetOrigin(self)\n",
      " |      GetOrigin(Image self) -> VectorDouble\n",
      " |  \n",
      " |  GetPixel(self, *idx)\n",
      " |      Returns the value of a pixel.\n",
      " |      \n",
      " |      This method takes 2 parameters in 2D: the x and y index,\n",
      " |      and 3 parameters in 3D: the x, y and z index.\n",
      " |  \n",
      " |  GetPixelAsComplexFloat64(self, idx)\n",
      " |      GetPixelAsComplexFloat64(Image self, VectorUInt32 idx) -> std::complex< double >\n",
      " |  \n",
      " |  GetPixelID(self)\n",
      " |      GetPixelID(Image self) -> itk::simple::PixelIDValueEnum\n",
      " |  \n",
      " |  GetPixelIDTypeAsString(self)\n",
      " |      GetPixelIDTypeAsString(Image self) -> std::string\n",
      " |  \n",
      " |  GetPixelIDValue(self)\n",
      " |      GetPixelIDValue(Image self) -> itk::simple::PixelIDValueType\n",
      " |  \n",
      " |  GetSize(self)\n",
      " |      GetSize(Image self) -> VectorUInt32\n",
      " |  \n",
      " |  GetSpacing(self)\n",
      " |      GetSpacing(Image self) -> VectorDouble\n",
      " |  \n",
      " |  GetWidth(self)\n",
      " |      GetWidth(Image self) -> unsigned int\n",
      " |  \n",
      " |  HasMetaDataKey(self, key)\n",
      " |      HasMetaDataKey(Image self, std::string const & key) -> bool\n",
      " |      \n",
      " |      \n",
      " |      \n",
      " |      Query the meta-data dictionary for the existence of a key.\n",
      " |  \n",
      " |  MakeUnique(self)\n",
      " |      MakeUnique(Image self)\n",
      " |      \n",
      " |      \n",
      " |      \n",
      " |      Performs actually coping if needed to make object unique.\n",
      " |      \n",
      " |      \n",
      " |      The Image class by default performs lazy coping and assignment. This method\n",
      " |      make sure that coping actually happens to the itk::Image pointed to is only pointed to by this object.\n",
      " |  \n",
      " |  SetDirection(self, direction)\n",
      " |      SetDirection(Image self, VectorDouble direction)\n",
      " |  \n",
      " |  SetMetaData(self, key, value)\n",
      " |      SetMetaData(Image self, std::string const & key, std::string const & value)\n",
      " |      \n",
      " |      \n",
      " |      \n",
      " |      Set an entry in the meta-data dictionary.\n",
      " |      \n",
      " |      \n",
      " |      Replaces or creates an entry in the image's meta-data dictionary.\n",
      " |  \n",
      " |  SetOrigin(self, origin)\n",
      " |      SetOrigin(Image self, VectorDouble origin)\n",
      " |  \n",
      " |  SetPixel(self, *args)\n",
      " |      Sets the value of a pixel.\n",
      " |      \n",
      " |      This method takes 3 parameters in 2D: the x and y index then the value,\n",
      " |      and 4 parameters in 3D: the x, y and z index then the value.\n",
      " |  \n",
      " |  SetPixelAsComplexFloat64(self, idx, v)\n",
      " |      SetPixelAsComplexFloat64(Image self, VectorUInt32 idx, std::complex< double > const v)\n",
      " |  \n",
      " |  SetSpacing(self, spacing)\n",
      " |      SetSpacing(Image self, VectorDouble spacing)\n",
      " |  \n",
      " |  TransformContinuousIndexToPhysicalPoint(self, index)\n",
      " |      TransformContinuousIndexToPhysicalPoint(Image self, VectorDouble index) -> VectorDouble\n",
      " |      \n",
      " |      \n",
      " |      \n",
      " |      Transform continuous index to physical point\n",
      " |  \n",
      " |  TransformIndexToPhysicalPoint(self, index)\n",
      " |      TransformIndexToPhysicalPoint(Image self, VectorInt64 index) -> VectorDouble\n",
      " |      \n",
      " |      \n",
      " |      \n",
      " |      Transform index to physical point\n",
      " |  \n",
      " |  TransformPhysicalPointToContinuousIndex(self, point)\n",
      " |      TransformPhysicalPointToContinuousIndex(Image self, VectorDouble point) -> VectorDouble\n",
      " |      \n",
      " |      \n",
      " |      \n",
      " |      Transform physical point to continuous index\n",
      " |  \n",
      " |  TransformPhysicalPointToIndex(self, point)\n",
      " |      TransformPhysicalPointToIndex(Image self, VectorDouble point) -> VectorInt64\n",
      " |      \n",
      " |      \n",
      " |      \n",
      " |      Transform physical point to index\n",
      " |  \n",
      " |  __GetPixelAsComplexFloat32__(self, idx)\n",
      " |      __GetPixelAsComplexFloat32__(Image self, VectorUInt32 idx) -> std::complex< float >\n",
      " |  \n",
      " |  __GetPixelAsDouble__(self, idx)\n",
      " |      __GetPixelAsDouble__(Image self, VectorUInt32 idx) -> double\n",
      " |  \n",
      " |  __GetPixelAsFloat__(self, idx)\n",
      " |      __GetPixelAsFloat__(Image self, VectorUInt32 idx) -> float\n",
      " |  \n",
      " |  __GetPixelAsInt16__(self, idx)\n",
      " |      __GetPixelAsInt16__(Image self, VectorUInt32 idx) -> int16_t\n",
      " |  \n",
      " |  __GetPixelAsInt32__(self, idx)\n",
      " |      __GetPixelAsInt32__(Image self, VectorUInt32 idx) -> int32_t\n",
      " |  \n",
      " |  __GetPixelAsInt64__(self, idx)\n",
      " |      __GetPixelAsInt64__(Image self, VectorUInt32 idx) -> int64_t\n",
      " |  \n",
      " |  __GetPixelAsInt8__(self, idx)\n",
      " |      __GetPixelAsInt8__(Image self, VectorUInt32 idx) -> int8_t\n",
      " |  \n",
      " |  __GetPixelAsUInt16__(self, idx)\n",
      " |      __GetPixelAsUInt16__(Image self, VectorUInt32 idx) -> uint16_t\n",
      " |  \n",
      " |  __GetPixelAsUInt32__(self, idx)\n",
      " |      __GetPixelAsUInt32__(Image self, VectorUInt32 idx) -> uint32_t\n",
      " |  \n",
      " |  __GetPixelAsUInt64__(self, idx)\n",
      " |      __GetPixelAsUInt64__(Image self, VectorUInt32 idx) -> uint64_t\n",
      " |  \n",
      " |  __GetPixelAsUInt8__(self, idx)\n",
      " |      __GetPixelAsUInt8__(Image self, VectorUInt32 idx) -> uint8_t\n",
      " |  \n",
      " |  __GetPixelAsVectorFloat32__(self, idx)\n",
      " |      __GetPixelAsVectorFloat32__(Image self, VectorUInt32 idx) -> VectorFloat\n",
      " |  \n",
      " |  __GetPixelAsVectorFloat64__(self, idx)\n",
      " |      __GetPixelAsVectorFloat64__(Image self, VectorUInt32 idx) -> VectorDouble\n",
      " |  \n",
      " |  __GetPixelAsVectorInt16__(self, idx)\n",
      " |      __GetPixelAsVectorInt16__(Image self, VectorUInt32 idx) -> VectorInt16\n",
      " |  \n",
      " |  __GetPixelAsVectorInt32__(self, idx)\n",
      " |      __GetPixelAsVectorInt32__(Image self, VectorUInt32 idx) -> VectorInt32\n",
      " |  \n",
      " |  __GetPixelAsVectorInt64__(self, idx)\n",
      " |      __GetPixelAsVectorInt64__(Image self, VectorUInt32 idx) -> VectorInt64\n",
      " |  \n",
      " |  __GetPixelAsVectorInt8__(self, idx)\n",
      " |      __GetPixelAsVectorInt8__(Image self, VectorUInt32 idx) -> VectorInt8\n",
      " |  \n",
      " |  __GetPixelAsVectorUInt16__(self, idx)\n",
      " |      __GetPixelAsVectorUInt16__(Image self, VectorUInt32 idx) -> VectorUInt16\n",
      " |  \n",
      " |  __GetPixelAsVectorUInt32__(self, idx)\n",
      " |      __GetPixelAsVectorUInt32__(Image self, VectorUInt32 idx) -> VectorUInt32\n",
      " |  \n",
      " |  __GetPixelAsVectorUInt64__(self, idx)\n",
      " |      __GetPixelAsVectorUInt64__(Image self, VectorUInt32 idx) -> VectorUInt64\n",
      " |  \n",
      " |  __GetPixelAsVectorUInt8__(self, idx)\n",
      " |      __GetPixelAsVectorUInt8__(Image self, VectorUInt32 idx) -> VectorUInt8\n",
      " |  \n",
      " |  __SetPixelAsComplexFloat32__(self, idx, v)\n",
      " |      __SetPixelAsComplexFloat32__(Image self, VectorUInt32 idx, std::complex< float > const v)\n",
      " |  \n",
      " |  __SetPixelAsDouble__(self, idx, v)\n",
      " |      __SetPixelAsDouble__(Image self, VectorUInt32 idx, double v)\n",
      " |  \n",
      " |  __SetPixelAsFloat__(self, idx, v)\n",
      " |      __SetPixelAsFloat__(Image self, VectorUInt32 idx, float v)\n",
      " |  \n",
      " |  __SetPixelAsInt16__(self, idx, v)\n",
      " |      __SetPixelAsInt16__(Image self, VectorUInt32 idx, int16_t v)\n",
      " |  \n",
      " |  __SetPixelAsInt32__(self, idx, v)\n",
      " |      __SetPixelAsInt32__(Image self, VectorUInt32 idx, int32_t v)\n",
      " |  \n",
      " |  __SetPixelAsInt64__(self, idx, v)\n",
      " |      __SetPixelAsInt64__(Image self, VectorUInt32 idx, int64_t v)\n",
      " |  \n",
      " |  __SetPixelAsInt8__(self, idx, v)\n",
      " |      __SetPixelAsInt8__(Image self, VectorUInt32 idx, int8_t v)\n",
      " |  \n",
      " |  __SetPixelAsUInt16__(self, idx, v)\n",
      " |      __SetPixelAsUInt16__(Image self, VectorUInt32 idx, uint16_t v)\n",
      " |  \n",
      " |  __SetPixelAsUInt32__(self, idx, v)\n",
      " |      __SetPixelAsUInt32__(Image self, VectorUInt32 idx, uint32_t v)\n",
      " |  \n",
      " |  __SetPixelAsUInt64__(self, idx, v)\n",
      " |      __SetPixelAsUInt64__(Image self, VectorUInt32 idx, uint64_t v)\n",
      " |  \n",
      " |  __SetPixelAsUInt8__(self, idx, v)\n",
      " |      __SetPixelAsUInt8__(Image self, VectorUInt32 idx, uint8_t v)\n",
      " |  \n",
      " |  __SetPixelAsVectorFloat32__(self, idx, v)\n",
      " |      __SetPixelAsVectorFloat32__(Image self, VectorUInt32 idx, VectorFloat v)\n",
      " |  \n",
      " |  __SetPixelAsVectorFloat64__(self, idx, v)\n",
      " |      __SetPixelAsVectorFloat64__(Image self, VectorUInt32 idx, VectorDouble v)\n",
      " |  \n",
      " |  __SetPixelAsVectorInt16__(self, idx, v)\n",
      " |      __SetPixelAsVectorInt16__(Image self, VectorUInt32 idx, VectorInt16 v)\n",
      " |  \n",
      " |  __SetPixelAsVectorInt32__(self, idx, v)\n",
      " |      __SetPixelAsVectorInt32__(Image self, VectorUInt32 idx, VectorInt32 v)\n",
      " |  \n",
      " |  __SetPixelAsVectorInt64__(self, idx, v)\n",
      " |      __SetPixelAsVectorInt64__(Image self, VectorUInt32 idx, VectorInt64 v)\n",
      " |  \n",
      " |  __SetPixelAsVectorInt8__(self, idx, v)\n",
      " |      __SetPixelAsVectorInt8__(Image self, VectorUInt32 idx, VectorInt8 v)\n",
      " |  \n",
      " |  __SetPixelAsVectorUInt16__(self, idx, v)\n",
      " |      __SetPixelAsVectorUInt16__(Image self, VectorUInt32 idx, VectorUInt16 v)\n",
      " |  \n",
      " |  __SetPixelAsVectorUInt32__(self, idx, v)\n",
      " |      __SetPixelAsVectorUInt32__(Image self, VectorUInt32 idx, VectorUInt32 v)\n",
      " |  \n",
      " |  __SetPixelAsVectorUInt64__(self, idx, v)\n",
      " |      __SetPixelAsVectorUInt64__(Image self, VectorUInt32 idx, VectorUInt64 v)\n",
      " |  \n",
      " |  __SetPixelAsVectorUInt8__(self, idx, v)\n",
      " |      __SetPixelAsVectorUInt8__(Image self, VectorUInt32 idx, VectorUInt8 v)\n",
      " |  \n",
      " |  __abs__(self)\n",
      " |  \n",
      " |  __add__(self, other)\n",
      " |  \n",
      " |  __and__(self, other)\n",
      " |  \n",
      " |  __del__ lambda self\n",
      " |  \n",
      " |  __div__(self, other)\n",
      " |  \n",
      " |  __eq__(self, other)\n",
      " |      Return self==value.\n",
      " |  \n",
      " |  __floordiv__(self, other)\n",
      " |  \n",
      " |  __ge__(self, other)\n",
      " |      Return self>=value.\n",
      " |  \n",
      " |  __getattr__ lambda self, name\n",
      " |  \n",
      " |  __getitem__(self, idx)\n",
      " |      Get an pixel value or a sliced image.\n",
      " |      \n",
      " |      This operator implements basic indexing where idx is\n",
      " |      arguments or a squence of integers the same dimension as\n",
      " |      the image. The result will be a pixel value from that\n",
      " |      index.\n",
      " |      \n",
      " |      Multi-dimension extended slice based indexing is also\n",
      " |      implemented. The return is a copy of a new image. The\n",
      " |      standard sliced based indices are supported including\n",
      " |      negative indices, to indicate location relative to the\n",
      " |      end, along with negative step sized to indicate reversing\n",
      " |      of direction.\n",
      " |      \n",
      " |      If the length of idx is less than the number of dimension\n",
      " |      of the image it will be padded with the defaults slice\n",
      " |      \":\".\n",
      " |      \n",
      " |      A 2D image can be extracted from a 3D image by providing\n",
      " |      one argument being an integer instead of a slice.\n",
      " |  \n",
      " |  __gt__(self, other)\n",
      " |      Return self>value.\n",
      " |  \n",
      " |  __iadd__(self, other)\n",
      " |      # NOTE: the __i*__ methods are not implemented because there\n",
      " |      # currently in no way to make the underlying filters run\n",
      " |      # inplace. But python will implement a default version based\n",
      " |      # on the standard method\n",
      " |  \n",
      " |  __init__(self, *args)\n",
      " |      __init__(itk::simple::Image self) -> Image\n",
      " |      __init__(itk::simple::Image self, Image img) -> Image\n",
      " |      __init__(itk::simple::Image self, unsigned int width, unsigned int height, itk::simple::PixelIDValueEnum valueEnum) -> Image\n",
      " |      __init__(itk::simple::Image self, unsigned int width, unsigned int height, unsigned int depth, itk::simple::PixelIDValueEnum valueEnum) -> Image\n",
      " |      __init__(itk::simple::Image self, VectorUInt32 size, itk::simple::PixelIDValueEnum valueEnum, unsigned int numberOfComponents=0) -> Image\n",
      " |  \n",
      " |  __invert__(self)\n",
      " |  \n",
      " |  __iter__(self)\n",
      " |  \n",
      " |  __le__(self, other)\n",
      " |      Return self<=value.\n",
      " |  \n",
      " |  __len__(self)\n",
      " |  \n",
      " |  __lt__(self, other)\n",
      " |      Return self<value.\n",
      " |  \n",
      " |  __mod__(self, other)\n",
      " |  \n",
      " |  __mul__(self, other)\n",
      " |  \n",
      " |  __ne__(self, other)\n",
      " |      Return self!=value.\n",
      " |  \n",
      " |  __neg__(self)\n",
      " |  \n",
      " |  __or__(self, other)\n",
      " |  \n",
      " |  __pos__(self)\n",
      " |  \n",
      " |  __pow__(self, other)\n",
      " |  \n",
      " |  __radd__(self, other)\n",
      " |  \n",
      " |  __rand__(self, other)\n",
      " |  \n",
      " |  __rdiv__(self, other)\n",
      " |  \n",
      " |  __repr__ = _swig_repr(self)\n",
      " |  \n",
      " |  __rfloordiv__(self, other)\n",
      " |  \n",
      " |  __rmul__(self, other)\n",
      " |  \n",
      " |  __ror__(self, other)\n",
      " |  \n",
      " |  __rpow__(self, other)\n",
      " |  \n",
      " |  __rsub__(self, other)\n",
      " |  \n",
      " |  __rtruediv__(self, other)\n",
      " |  \n",
      " |  __rxor__(self, other)\n",
      " |  \n",
      " |  __setattr__ lambda self, name, value\n",
      " |  \n",
      " |  __setitem__(self, idx, value)\n",
      " |      Sets the pixel value at index idx to value.\n",
      " |      \n",
      " |      The dimension of idx should match that of the image.\n",
      " |  \n",
      " |  __str__(self)\n",
      " |      __str__(Image self) -> std::string\n",
      " |  \n",
      " |  __sub__(self, other)\n",
      " |  \n",
      " |  __truediv__(self, other)\n",
      " |  \n",
      " |  __xor__(self, other)\n",
      " |  \n",
      " |  ----------------------------------------------------------------------\n",
      " |  Static methods defined here:\n",
      " |  \n",
      " |  __swig_destroy__ = delete_Image(...)\n",
      " |      delete_Image(Image self)\n",
      " |  \n",
      " |  ----------------------------------------------------------------------\n",
      " |  Data descriptors defined here:\n",
      " |  \n",
      " |  __dict__\n",
      " |      dictionary for instance variables (if defined)\n",
      " |  \n",
      " |  __weakref__\n",
      " |      list of weak references to the object (if defined)\n",
      " |  \n",
      " |  ----------------------------------------------------------------------\n",
      " |  Data and other attributes defined here:\n",
      " |  \n",
      " |  __hash__ = None\n",
      " |  \n",
      " |  __swig_getmethods__ = {}\n",
      " |  \n",
      " |  __swig_setmethods__ = {}\n",
      "\n"
     ]
    }
   ],
   "source": [
    "help(sitk.Image)"
   ]
  },
  {
   "cell_type": "markdown",
   "metadata": {},
   "source": [
    "## Image Attributes\n",
    "\n",
    "An image object has a string casting method. This can be used with the print() python built-in function. With this all the stored information of the image is shown."
   ]
  },
  {
   "cell_type": "code",
   "execution_count": 6,
   "metadata": {},
   "outputs": [
    {
     "name": "stdout",
     "output_type": "stream",
     "text": [
      "Image (0x55e4486784c0)\n",
      "  RTTI typeinfo:   itk::Image<float, 2u>\n",
      "  Reference Count: 1\n",
      "  Modified Time: 779\n",
      "  Debug: Off\n",
      "  Object Name: \n",
      "  Observers: \n",
      "    none\n",
      "  Source: (none)\n",
      "  Source output name: (none)\n",
      "  Release Data: Off\n",
      "  Data Released: False\n",
      "  Global Release Data: Off\n",
      "  PipelineMTime: 0\n",
      "  UpdateMTime: 0\n",
      "  RealTimeStamp: 0 seconds \n",
      "  LargestPossibleRegion: \n",
      "    Dimension: 2\n",
      "    Index: [0, 0]\n",
      "    Size: [400, 300]\n",
      "  BufferedRegion: \n",
      "    Dimension: 2\n",
      "    Index: [0, 0]\n",
      "    Size: [400, 300]\n",
      "  RequestedRegion: \n",
      "    Dimension: 2\n",
      "    Index: [0, 0]\n",
      "    Size: [400, 300]\n",
      "  Spacing: [1, 1]\n",
      "  Origin: [0, 0]\n",
      "  Direction: \n",
      "1 0\n",
      "0 1\n",
      "\n",
      "  IndexToPointMatrix: \n",
      "1 0\n",
      "0 1\n",
      "\n",
      "  PointToIndexMatrix: \n",
      "1 0\n",
      "0 1\n",
      "\n",
      "  Inverse Direction: \n",
      "1 0\n",
      "0 1\n",
      "\n",
      "  PixelContainer: \n",
      "    ImportImageContainer (0x55e4493ed220)\n",
      "      RTTI typeinfo:   itk::ImportImageContainer<unsigned long, float>\n",
      "      Reference Count: 1\n",
      "      Modified Time: 780\n",
      "      Debug: Off\n",
      "      Object Name: \n",
      "      Observers: \n",
      "        none\n",
      "      Pointer: 0x55e4494b8100\n",
      "      Container manages memory: true\n",
      "      Size: 120000\n",
      "      Capacity: 120000\n",
      "\n"
     ]
    }
   ],
   "source": [
    "print(image_2d)"
   ]
  },
  {
   "cell_type": "markdown",
   "metadata": {},
   "source": [
    "The Image Class has several methods to write or read its attributes.\n",
    "\n",
    "The following methods are used to get the image size and length."
   ]
  },
  {
   "cell_type": "code",
   "execution_count": 7,
   "metadata": {},
   "outputs": [
    {
     "name": "stdout",
     "output_type": "stream",
     "text": [
      "2\n",
      "400\n",
      "300\n",
      "(400, 300)\n",
      "(1.0, 1.0)\n"
     ]
    }
   ],
   "source": [
    "print(image_2d.GetDimension()) # return integer with dimension\n",
    "print(image_2d.GetWidth())     # return the width\n",
    "print(image_2d.GetHeight())    # return the height\n",
    "print(image_2d.GetSize())      # return tuple with pixel size (width, depth)\n",
    "print(image_2d.GetSpacing())   # return tuple with length per pixel. Typical units [mm/pixel]"
   ]
  },
  {
   "cell_type": "markdown",
   "metadata": {},
   "source": [
    "The following methods are used to get the image information related to the channels."
   ]
  },
  {
   "cell_type": "code",
   "execution_count": 8,
   "metadata": {
    "scrolled": true
   },
   "outputs": [
    {
     "name": "stdout",
     "output_type": "stream",
     "text": [
      "3\n",
      "vector of 16-bit unsigned integer\n",
      "15\n"
     ]
    }
   ],
   "source": [
    "print(image_rgb.GetNumberOfComponentsPerPixel()) # return integer with number of channels\n",
    "print(image_rgb.GetPixelIDTypeAsString())        # return pixel type as string\n",
    "print(image_rgb.GetPixelIDValue())               # return integer with pixel coded value (ITK enum)"
   ]
  },
  {
   "cell_type": "markdown",
   "metadata": {},
   "source": [
    "The next function is declared to read the main attributes of any image. "
   ]
  },
  {
   "cell_type": "code",
   "execution_count": 9,
   "metadata": {},
   "outputs": [],
   "source": [
    "def image_info( image ):\n",
    "    # Return a string with image information details. Pixel type, dimensions, scale.\n",
    "    # Input: sitk.Image\n",
    "    # Output: string\n",
    "    info = '\\n===== Image Information ====='\n",
    "    info += '\\nPixel type: \\t\\t' + str(image.GetPixelIDTypeAsString())\n",
    "    info += '\\nPixel channels: \\t' + str(image.GetNumberOfComponentsPerPixel()) # channels\n",
    "    info += '\\nDimensions: \\t\\t' + str(image.GetDimension())\n",
    "    info += '\\nSize: \\t\\t\\t' + str(image.GetSize())\n",
    "    info += '\\nLength (mm): \\t\\t' + str(image.GetSpacing())\n",
    "    info += '\\nTotal Elements: \\t' + str(image.GetNumberOfPixels())\n",
    "    info += '\\n'\n",
    "    return info"
   ]
  },
  {
   "cell_type": "markdown",
   "metadata": {},
   "source": [
    "This function can be called to summarize the information of an image. Observe the difference between the single channel and the multichannel 2D images.\n",
    "\n",
    "<b>Note:</b> This function is stored in a local file called [local_utils.py](./local_utils.py) for further usage."
   ]
  },
  {
   "cell_type": "code",
   "execution_count": 10,
   "metadata": {},
   "outputs": [
    {
     "name": "stdout",
     "output_type": "stream",
     "text": [
      "\n",
      "===== Image Information =====\n",
      "Pixel type: \t\t32-bit float\n",
      "Pixel channels: \t1\n",
      "Dimensions: \t\t2\n",
      "Size: \t\t\t(400, 300)\n",
      "Length (mm): \t\t(1.0, 1.0)\n",
      "Total Elements: \t120000\n",
      "\n",
      "\n",
      "===== Image Information =====\n",
      "Pixel type: \t\tvector of 16-bit unsigned integer\n",
      "Pixel channels: \t3\n",
      "Dimensions: \t\t2\n",
      "Size: \t\t\t(256, 128)\n",
      "Length (mm): \t\t(1.0, 1.0)\n",
      "Total Elements: \t32768\n",
      "\n"
     ]
    }
   ],
   "source": [
    "print(image_info(image_2d))\n",
    "print(image_info(image_rgb))"
   ]
  },
  {
   "cell_type": "markdown",
   "metadata": {},
   "source": [
    "## Reading a 2D Image\n",
    "\n",
    "\n",
    "The method to read images with SimpleITK is: <b>sitk.ReadImage(...)</b>\n",
    "\n",
    "SimpleITK support different image formats such as: jpg, png, tiff, among others.\n",
    "\n",
    "An example of reading images is presented above. The images are found in the local folder [images/](./images/)\n",
    "\n",
    "Credits:\n",
    "* thorax_ct.jpg:  [www.klinikum.uni-heidelberg.de](https://www.klinikum.uni-heidelberg.de/fileadmin/radiologie/radiodiagnostik/Fallsammlungen/cases/Fall20/inhalt17.html)\n",
    "* brain.tif:      http://slicer.kitware.com/midas3/item/241320\n",
    "* simpleitk.png:  https://itk.org/Wiki/SimpleITK"
   ]
  },
  {
   "cell_type": "code",
   "execution_count": 25,
   "metadata": {
    "scrolled": true
   },
   "outputs": [],
   "source": [
    "prefix = './images/'\n",
    "# prefix = \"/content/registration_tutorial/images/\"\n",
    "\n",
    "image_jpg = sitk.ReadImage(prefix + 'thorax_ct.jpg')  # www.klinikum.uni-heidelberg.de\n",
    "image_tif = sitk.ReadImage(prefix + 'brain.tif')      # http://slicer.kitware.com/midas3/item/241320\n",
    "image_png = sitk.ReadImage(prefix + 'simpleitk.png')  # https://itk.org/Wiki/SimpleITK"
   ]
  },
  {
   "cell_type": "markdown",
   "metadata": {},
   "source": [
    "Now, it comes usefull the function image_info() to print the attributes of the 2D images."
   ]
  },
  {
   "cell_type": "code",
   "execution_count": 12,
   "metadata": {},
   "outputs": [
    {
     "name": "stdout",
     "output_type": "stream",
     "text": [
      "\n",
      "===== Image Information =====\n",
      "Pixel type: \t\t8-bit unsigned integer\n",
      "Pixel channels: \t1\n",
      "Dimensions: \t\t2\n",
      "Size: \t\t\t(381, 259)\n",
      "Length (mm): \t\t(0.26458333333333334, 0.26458333333333334)\n",
      "Total Elements: \t98679\n",
      "\n",
      "\n",
      "===== Image Information =====\n",
      "Pixel type: \t\t16-bit unsigned integer\n",
      "Pixel channels: \t1\n",
      "Dimensions: \t\t2\n",
      "Size: \t\t\t(221, 257)\n",
      "Length (mm): \t\t(1.0, 1.0)\n",
      "Total Elements: \t56797\n",
      "\n",
      "\n",
      "===== Image Information =====\n",
      "Pixel type: \t\tvector of 8-bit unsigned integer\n",
      "Pixel channels: \t4\n",
      "Dimensions: \t\t2\n",
      "Size: \t\t\t(300, 300)\n",
      "Length (mm): \t\t(1.0, 1.0)\n",
      "Total Elements: \t90000\n",
      "\n"
     ]
    }
   ],
   "source": [
    "print(image_info(image_jpg))\n",
    "print(image_info(image_tif))\n",
    "print(image_info(image_png))"
   ]
  },
  {
   "cell_type": "markdown",
   "metadata": {},
   "source": [
    "## Accessing Pixels\n",
    "\n",
    "There are the member functions ``GetPixel`` and ``SetPixel`` which provides an ITK-like interface for pixel access."
   ]
  },
  {
   "cell_type": "code",
   "execution_count": 13,
   "metadata": {
    "scrolled": true
   },
   "outputs": [
    {
     "name": "stdout",
     "output_type": "stream",
     "text": [
      "44\n",
      "1\n"
     ]
    }
   ],
   "source": [
    "print(image_jpg.GetPixel(0, 0))\n",
    "image_jpg.SetPixel(0, 0, 1)\n",
    "print(image_jpg.GetPixel(0, 0))"
   ]
  },
  {
   "cell_type": "markdown",
   "metadata": {},
   "source": [
    "Pixel values can also be accesed with array index. In this case the sintax is: sitk.Image[x,y]"
   ]
  },
  {
   "cell_type": "code",
   "execution_count": 14,
   "metadata": {},
   "outputs": [
    {
     "name": "stdout",
     "output_type": "stream",
     "text": [
      "1\n",
      "44\n"
     ]
    }
   ],
   "source": [
    "print(image_jpg[0,0]) # get pixel\n",
    "image_jpg[0,0] = 44   # set pixel\n",
    "print(image_jpg[0,0])"
   ]
  },
  {
   "cell_type": "markdown",
   "metadata": {},
   "source": [
    "## NumPy Conversion\n",
    "\n",
    "There is a built-in interface of SimpleITK and NumPy. NumPy is a well-known Python library that support multi-dimensional arrays and matrices, along with a large collection of high-level mathematical functions to operate on these arrays. \n",
    "\n",
    "Several mathematical and image processing libraries support numpy arrays. Therefore a good way to integrate SimpleITK to other libraries is through numpy.\n",
    "\n",
    "A numpy array can be obtained with:"
   ]
  },
  {
   "cell_type": "code",
   "execution_count": 15,
   "metadata": {},
   "outputs": [],
   "source": [
    "image_npa = sitk.GetArrayFromImage(image_jpg)"
   ]
  },
  {
   "cell_type": "markdown",
   "metadata": {},
   "source": [
    "From here, the numpy array can be used.\n",
    "\n",
    "The function sitk.GetArrayFromImage( ) creates a full copy of the array representing the image.\n",
    "\n",
    "The resulting numpy array is inverted (transposed) with regards to the image in SimpleITK. The numpy attributes can be verified with:\n"
   ]
  },
  {
   "cell_type": "code",
   "execution_count": 16,
   "metadata": {
    "scrolled": true
   },
   "outputs": [
    {
     "name": "stdout",
     "output_type": "stream",
     "text": [
      "uint8\n",
      "(259, 381)\n",
      "98679\n"
     ]
    }
   ],
   "source": [
    "print(image_npa.dtype)\n",
    "print(image_npa.shape)\n",
    "print(image_npa.size)"
   ]
  },
  {
   "cell_type": "markdown",
   "metadata": {},
   "source": [
    "A numpy array can be converted to an sitk.Image. The opposite method is sitk.GetImageFromArray().\n",
    "\n",
    "In the following example a numpy array with zeros is created, and next transformed to sitk.Image."
   ]
  },
  {
   "cell_type": "code",
   "execution_count": 17,
   "metadata": {},
   "outputs": [],
   "source": [
    "npa = np.zeros((100,200), dtype=np.int8)\n",
    "image_itk = sitk.GetImageFromArray(npa)"
   ]
  },
  {
   "cell_type": "markdown",
   "metadata": {},
   "source": [
    "Check the attributes of this new image "
   ]
  },
  {
   "cell_type": "code",
   "execution_count": 18,
   "metadata": {},
   "outputs": [
    {
     "name": "stdout",
     "output_type": "stream",
     "text": [
      "\n",
      "===== Image Information =====\n",
      "Pixel type: \t\t8-bit signed integer\n",
      "Pixel channels: \t1\n",
      "Dimensions: \t\t2\n",
      "Size: \t\t\t(200, 100)\n",
      "Length (mm): \t\t(1.0, 1.0)\n",
      "Total Elements: \t20000\n",
      "\n"
     ]
    }
   ],
   "source": [
    "print(image_info(image_itk))"
   ]
  },
  {
   "cell_type": "markdown",
   "metadata": {},
   "source": [
    "## Plot  the image\n",
    "\n",
    "Transforming sitk.Image to NumPy also enable plotting with Matplotlib. Matplotlib provides an object-oriented API for embedding plots into applications.\n",
    "\n",
    "The function imshow_2d() is defined to plot a sitk.Image."
   ]
  },
  {
   "cell_type": "code",
   "execution_count": 19,
   "metadata": {},
   "outputs": [],
   "source": [
    "def imshow_2d(image_itk, title = '', show = True, axis = False):\n",
    "    # Function to show a 2D image with matplotlib\n",
    "    # Inputs: sitk.Image, string with title\n",
    "    # Output: None\n",
    "    channels = image_itk.GetNumberOfComponentsPerPixel() # get the number of channels\n",
    "    image_npa = sitk.GetArrayFromImage(image_itk) # get a copy as numpy array with the image data\n",
    "    if channels == 1: # set the color map according to the channels\n",
    "        plt.imshow(image_npa, cmap = plt.cm.gray) # 1 channel for monochrome image\n",
    "    else:\n",
    "        plt.imshow(image_npa)   # default color map of pyplot\n",
    "    plt.title(title)\n",
    "    if not axis: plt.axis('off') # disable to see axis\n",
    "    if show: plt.show()         # stop show, useful when subplotting\n",
    "    return"
   ]
  },
  {
   "cell_type": "markdown",
   "metadata": {},
   "source": [
    "<b>Note:</b> This function is stored in a local file called [local_utils.py](./local_utils.py) for further usage.\n",
    "\n",
    "Now, the previous images can be plotted."
   ]
  },
  {
   "cell_type": "code",
   "execution_count": 20,
   "metadata": {
    "scrolled": true
   },
   "outputs": [
    {
     "data": {
      "image/png": "[encoded data removed]",
      "text/plain": [
       "<Figure size 432x288 with 1 Axes>"
      ]
     },
     "metadata": {
      "needs_background": "light"
     },
     "output_type": "display_data"
    }
   ],
   "source": [
    "imshow_2d(image_jpg, 'thorax_ct.jpg')"
   ]
  },
  {
   "cell_type": "code",
   "execution_count": 21,
   "metadata": {},
   "outputs": [
    {
     "data": {
      "image/png": "[encoded data removed]",
      "text/plain": [
       "<Figure size 432x288 with 1 Axes>"
      ]
     },
     "metadata": {
      "needs_background": "light"
     },
     "output_type": "display_data"
    }
   ],
   "source": [
    "imshow_2d(image_tif, 'brain.tif')"
   ]
  },
  {
   "cell_type": "code",
   "execution_count": 22,
   "metadata": {},
   "outputs": [
    {
     "data": {
      "image/png": "[encoded data removed]",
      "text/plain": [
       "<Figure size 432x288 with 1 Axes>"
      ]
     },
     "metadata": {
      "needs_background": "light"
     },
     "output_type": "display_data"
    }
   ],
   "source": [
    "imshow_2d(image_png, 'simpleitk.png')"
   ]
  },
  {
   "cell_type": "markdown",
   "metadata": {},
   "source": [
    "## Writing a 2D Images\n",
    "\n",
    "After applying any image processing algorithm to a file is needed to store the resulting file. SimpleITK also support image writing. \n",
    "\n",
    "It offers support different image formats such as: jpg, png, tiff, among others.\n",
    "\n",
    "In the following example. The function sitk.WriteImage is used to convert a tif image to png. The output image can be seen in the local folder [images/](./images/)"
   ]
  },
  {
   "cell_type": "code",
   "execution_count": 24,
   "metadata": {},
   "outputs": [],
   "source": [
    "prefix = './images/'\n",
    "# prefix = \"/content/registration_tutorial/images/\"\n",
    "\n",
    "image_tif = sitk.ReadImage(prefix + 'brain.tif')\n",
    "sitk.WriteImage(image_tif, prefix + 'brain.png')"
   ]
  },
  {
   "cell_type": "markdown",
   "metadata": {},
   "source": [
    "### Note: The functions image_info( ), imshow_2d( ) are stored in the local file utils.py"
   ]
  }
 ],
 "metadata": {
  "kernelspec": {
   "display_name": "Python 3",
   "language": "python",
   "name": "python3"
  },
  "language_info": {
   "codemirror_mode": {
    "name": "ipython",
    "version": 3
   },
   "file_extension": ".py",
   "mimetype": "text/x-python",
   "name": "python",
   "nbconvert_exporter": "python",
   "pygments_lexer": "ipython3",
   "version": "3.7.2"
  }
 },
 "nbformat": 4,
 "nbformat_minor": 2
}
