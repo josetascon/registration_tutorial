{
 "cells": [
  {
   "cell_type": "markdown",
   "metadata": {},
   "source": [
    "<h1><center>SimpleITK Tutorial</center></h1>\n",
    "\n",
    "# 3D Images with SimpleITK\n",
    "\n",
    "Author: José D. Tascón-Vidarte \\\n",
    "Email: jota@di.ku.dk \\\n",
    "University of Copenhagen\n",
    "\n",
    "Objectives:\n",
    "- Learn how to create images with SimpleITK\n",
    "- Reading images and show its properties\n",
    "- Plotting images with numpy and matplotlib\n",
    "\n",
    "The documentation of SimpleITK is available at https://itk.org/SimpleITKDoxygen100/html/index.html\n",
    "\n",
    "This tutorial is based on the Notebooks provided by the Insight Software Consortium. http://insightsoftwareconsortium.github.io/SimpleITK-Notebooks/"
   ]
  },
  {
   "cell_type": "markdown",
   "metadata": {},
   "source": [
    "##  Cloning files\n",
    "\n",
    "Open the files to be used from github."
   ]
  },
  {
   "cell_type": "code",
   "execution_count": 23,
   "metadata": {},
   "outputs": [],
   "source": [
    "# !rm -rf /content/registration_tutorial/\n",
    "# !git clone https://github.com/josetascon/registration_tutorial.git"
   ]
  },
  {
   "cell_type": "markdown",
   "metadata": {},
   "source": [
    "## Import Libraries\n",
    "\n",
    "Import the libraries to be used."
   ]
  },
  {
   "cell_type": "code",
   "execution_count": 2,
   "metadata": {},
   "outputs": [],
   "source": [
    "# !pip install simpleitk           # install simpleitk in colabs\n",
    "\n",
    "import SimpleITK as sitk         # simpleitk library\n",
    "import os                        # os library, used to read files\n",
    "import sys                       # sys library, used to include local py files\n",
    "import numpy as np               # array and matrix library\n",
    "import matplotlib.pyplot as plt  # plot library\n",
    "\n",
    "from ipywidgets import interact, fixed # jupyter widgets libraries\n",
    "\n",
    "# sys.path.insert(0, '/content/registration_tutorial/') # local library path\n",
    "from local_utils import image_info, imshow_2d # local file local_utils.py"
   ]
  },
  {
   "cell_type": "markdown",
   "metadata": {},
   "source": [
    "## The Image Class\n",
    "\n",
    "The most important class in SimpleITK is the Image Class. Several algorithms (functions) use this class as an input parameter.\n",
    "\n",
    "The constructor of the image class is: sitk.Image(...)\n",
    "- A monochromatic 3D image is created with four inputs: width, height, depth, PixelIDValueEnum.\n",
    "- An RGB or any other multichannel image is created with the imputs: [width, height, depth] , PixelIDValueEnum, channels\n",
    "\n",
    "An example of this is:\n"
   ]
  },
  {
   "cell_type": "code",
   "execution_count": 3,
   "metadata": {},
   "outputs": [],
   "source": [
    "image_3D = sitk.Image(128, 128, 64, sitk.sitkInt16)\n",
    "image_3D_RGB = sitk.Image([64, 64, 64], sitk.sitkVectorUInt8,3)"
   ]
  },
  {
   "cell_type": "markdown",
   "metadata": {},
   "source": [
    "For more information of the Image Class see file [01_images_2d](01_images_2d.ipynb) of this tutorial.\n",
    "\n",
    "The image_info() created before can be called to summarize the information of an image. This function is stored in file [local_utils.py](./local_utils.py) and imported here."
   ]
  },
  {
   "cell_type": "code",
   "execution_count": 4,
   "metadata": {},
   "outputs": [
    {
     "name": "stdout",
     "output_type": "stream",
     "text": [
      "\n",
      "===== Image Information =====\n",
      "Pixel type: \t\t16-bit signed integer\n",
      "Pixel channels: \t1\n",
      "Dimensions: \t\t3\n",
      "Size: \t\t\t(128, 128, 64)\n",
      "Length (mm): \t\t(1.0, 1.0, 1.0)\n",
      "Total Elements: \t1048576\n",
      "\n",
      "\n",
      "===== Image Information =====\n",
      "Pixel type: \t\tvector of 8-bit unsigned integer\n",
      "Pixel channels: \t3\n",
      "Dimensions: \t\t3\n",
      "Size: \t\t\t(64, 64, 64)\n",
      "Length (mm): \t\t(1.0, 1.0, 1.0)\n",
      "Total Elements: \t262144\n",
      "\n"
     ]
    }
   ],
   "source": [
    "print(image_info(image_3D))\n",
    "print(image_info(image_3D_RGB))"
   ]
  },
  {
   "cell_type": "markdown",
   "metadata": {},
   "source": [
    "## Reading a 3D Image\n",
    "\n",
    "The method to read images with SimpleITK is: <b>sitk.ReadImage(...)</b>\n",
    "\n",
    "SimpleITK support different image formats such as:\n",
    "- Raw format (.mhd or .mha)\n",
    "- NIFTI format (.nii)\n",
    "- DICOM series (.dcm)\n",
    "\n",
    "The images used here are found in the local folder [images/](./images/)\n",
    "\n",
    "Credits:\n",
    "* training_001_ct.mhd: http://www.insight-journal.org/rire/\n",
    "* mni_icbm152_t1_tal_nlin_asym_09a.nii: [http://www.bic.mni.mcgill.ca/](http://www.bic.mni.mcgill.ca/ServicesAtlases/ICBM152NLin2009)\n",
    "* Dicom Series: http://www.giveascan.org/\n",
    "\n",
    "\n",
    "\n",
    "### Example reading a Raw file. \n",
    "\n",
    "This format is also known as ITK MetaImage format. A example of reading one file."
   ]
  },
  {
   "cell_type": "code",
   "execution_count": 5,
   "metadata": {},
   "outputs": [
    {
     "name": "stdout",
     "output_type": "stream",
     "text": [
      "\n",
      "===== Image Information =====\n",
      "Pixel type: \t\t16-bit signed integer\n",
      "Pixel channels: \t1\n",
      "Dimensions: \t\t3\n",
      "Size: \t\t\t(512, 512, 29)\n",
      "Length (mm): \t\t(0.653595, 0.653595, 4.0)\n",
      "Total Elements: \t7602176\n",
      "\n"
     ]
    }
   ],
   "source": [
    "prefix = './images/'\n",
    "# prefix = \"/content/registration_tutorial/images/\"\n",
    "\n",
    "image_mhd = sitk.ReadImage(prefix + 'ct/training_001_ct.mhd') # http://www.insight-journal.org/rire/\n",
    "print(image_info(image_mhd))"
   ]
  },
  {
   "cell_type": "markdown",
   "metadata": {},
   "source": [
    "The format .mhd refers to the header of a raw image. This header contains information about the encoding of the data. If you open this file directly as a text file you can read the information."
   ]
  },
  {
   "cell_type": "code",
   "execution_count": 6,
   "metadata": {},
   "outputs": [
    {
     "name": "stdout",
     "output_type": "stream",
     "text": [
      "ObjectType = Image\n",
      "NDims = 3\n",
      "BinaryDataByteOrderMSB = True\n",
      "AnatomicalOrientation = LPH\n",
      "ElementSpacing = 0.653595 0.653595 4.000000\n",
      "DimSize = 512 512 29\n",
      "ElementType = MET_SHORT\n",
      "ElementDataFile = image.bin\n",
      "\n"
     ]
    }
   ],
   "source": [
    "file_mhd = open(prefix + 'ct/training_001_ct.mhd','r') # open the file as a regular text file\n",
    "print(file_mhd.read())                               # Detail the header content\n",
    "file_mhd.close()"
   ]
  },
  {
   "cell_type": "markdown",
   "metadata": {},
   "source": [
    "The file has the information how the bytes of data are stored. This file refers to another file where the actual image information is saved. In this case to the file 'image.bin'. SimpleITK automaticaly read the file and identify the data in order to read the image.\n",
    "\n",
    "Another type of raw format is .mha. In this format the same file stores the header and also the data."
   ]
  },
  {
   "cell_type": "markdown",
   "metadata": {},
   "source": [
    "### Example reading a NIFTI file.\n",
    "\n",
    "The NIFTI image is downloaded from the dataset MNI-ICBM, and the template ICBM 2009a Nonlinear Asymmetric template. This data is part of a collection of MRI atlas templates for pediatric studies that represent the average anatomy for the age range of 4.5–18.5 years. The image to read is an MRI scan T1-weigthed image, mni_icbm152_t1_tal_nlin_asym_09a.nii:"
   ]
  },
  {
   "cell_type": "code",
   "execution_count": 7,
   "metadata": {},
   "outputs": [
    {
     "name": "stdout",
     "output_type": "stream",
     "text": [
      "\n",
      "===== Image Information =====\n",
      "Pixel type: \t\t32-bit float\n",
      "Pixel channels: \t1\n",
      "Dimensions: \t\t3\n",
      "Size: \t\t\t(197, 233, 189)\n",
      "Length (mm): \t\t(1.0, 1.0, 1.0)\n",
      "Total Elements: \t8675289\n",
      "\n"
     ]
    }
   ],
   "source": [
    "image_nii = sitk.ReadImage(prefix + 'mni_icbm152_t1_tal_nlin_asym_09a.nii')\n",
    "print(image_info(image_nii))"
   ]
  },
  {
   "cell_type": "markdown",
   "metadata": {},
   "source": [
    "### Example reading DICOM series.\n",
    "\n",
    "Digital Imaging and Communications in Medicine (DICOM) is the standard for the communication and management of medical imaging information and related data. For a description see the [Wiki](https://en.wikipedia.org/wiki/DICOM). The typical format of DICOM files is .dcm. The DICOM files to read are from the dataset Give a Scan, study 4, series 3.\n",
    "\n",
    "Since, several files in a folder represent an image, it is necesary to read all the files. The following example show this:"
   ]
  },
  {
   "cell_type": "code",
   "execution_count": 8,
   "metadata": {
    "scrolled": true
   },
   "outputs": [
    {
     "name": "stdout",
     "output_type": "stream",
     "text": [
      "DICOM files: ./images/Series3/IMG00000/IMG00000, ... , ./images/Series3/IMG00000/IMG00055\n"
     ]
    }
   ],
   "source": [
    "path = prefix + 'Series3/IMG00000/'  # path where the dicom series files are.\n",
    "files = os.listdir(path)            # list with all dicom files\n",
    "files.sort()\n",
    "path_files = []\n",
    "for file in files:                   # create a list with path/files names\n",
    "    path_files.append(path+file)     # append the files names. The file name is path/file\n",
    "print('DICOM files: ' + path_files[0] + ', ... , ' + path_files[-1]) # print first and last file names"
   ]
  },
  {
   "cell_type": "markdown",
   "metadata": {},
   "source": [
    "Now, the list 'path_files' is used to read the image."
   ]
  },
  {
   "cell_type": "code",
   "execution_count": 9,
   "metadata": {},
   "outputs": [
    {
     "name": "stdout",
     "output_type": "stream",
     "text": [
      "\n",
      "===== Image Information =====\n",
      "Pixel type: \t\t32-bit signed integer\n",
      "Pixel channels: \t1\n",
      "Dimensions: \t\t3\n",
      "Size: \t\t\t(512, 512, 56)\n",
      "Length (mm): \t\t(0.666016, 0.666016, 5.0)\n",
      "Total Elements: \t14680064\n",
      "\n"
     ]
    }
   ],
   "source": [
    "image_dcm = sitk.ReadImage(path_files)\n",
    "print(image_info(image_dcm))"
   ]
  },
  {
   "cell_type": "markdown",
   "metadata": {},
   "source": [
    "This format is not very handy since a single file is splitted in a series of files. In order to have a unique file is possible to write the image to a regular Raw or NIFTI format."
   ]
  },
  {
   "cell_type": "markdown",
   "metadata": {},
   "source": [
    "## Writing a 3D Image"
   ]
  },
  {
   "cell_type": "markdown",
   "metadata": {},
   "source": [
    "SimpleITK also support image writing. The method to read images with SimpleITK is: sitk.WriteImage(...)\n",
    "\n",
    "As mentioned, the write nction is usefull to create a single file from the dicom series. This can be done with:"
   ]
  },
  {
   "cell_type": "code",
   "execution_count": 10,
   "metadata": {},
   "outputs": [],
   "source": [
    "sitk.WriteImage(image_dcm, prefix + 'lungs_ct.nii')"
   ]
  },
  {
   "cell_type": "markdown",
   "metadata": {},
   "source": [
    "Similarly, to use a single file in the Raw format we store the image with the extension .mha"
   ]
  },
  {
   "cell_type": "code",
   "execution_count": 11,
   "metadata": {},
   "outputs": [],
   "source": [
    "sitk.WriteImage(image_mhd, prefix + 'training_001_ct.mha')"
   ]
  },
  {
   "cell_type": "markdown",
   "metadata": {},
   "source": [
    "## NumPy Conversion \n",
    "\n",
    "A Numpy array can be obtained with SimpleITK. Similar to the example [01_images_2d](01_images_2d.ipynb) of this tutorial. \n",
    "\n",
    "A numpy array can be obtained back and forth with the functions:"
   ]
  },
  {
   "cell_type": "code",
   "execution_count": 12,
   "metadata": {},
   "outputs": [
    {
     "name": "stdout",
     "output_type": "stream",
     "text": [
      "int32\n",
      "(56, 512, 512)\n",
      "14680064\n"
     ]
    }
   ],
   "source": [
    "image_npa = sitk.GetArrayFromImage(image_dcm)   # Get NumPy array from sitk.Image\n",
    "image_itk = sitk.GetImageFromArray(image_npa)   # Get sitk.Image from NumPy array\n",
    "\n",
    "print(image_npa.dtype)\n",
    "print(image_npa.shape)\n",
    "print(image_npa.size)"
   ]
  },
  {
   "cell_type": "markdown",
   "metadata": {},
   "source": [
    "## Plot 3D Images in 2D\n",
    "\n",
    "Transforming sitk.Image to NumPy also enable plotting with Matplotlib. Matplotlib provides an object-oriented API for embedding plots into applications. Considering that the images are in 3D, this enable 3 views typically used in medical imaging. These are the axial, sagital and coronal view. Some useful functions are declared to perform this.\n"
   ]
  },
  {
   "cell_type": "code",
   "execution_count": 13,
   "metadata": {},
   "outputs": [],
   "source": [
    "# Set of functions to visualize a 3D image\n",
    "def imshow_axial(range_z, image_itk, flip = False):\n",
    "    # Scale the image with the pixel size and spacing in mm\n",
    "    spacing = image_itk.GetSpacing() # scale in mm\n",
    "    size = image_itk.GetSize()       # pixel width and height\n",
    "    extent = (0, np.ceil(spacing[0]*size[0]), np.ceil(spacing[1]*size[1]), 0) #image limits\n",
    "    \n",
    "    image_npa = sitk.GetArrayViewFromImage(image_itk) # get numpy array\n",
    "\n",
    "    # Create a figure with the axial\n",
    "    if flip:\n",
    "        plt.imshow(image_npa[-range_z,:,::-1], extent=extent, cmap=plt.cm.Greys_r)\n",
    "    else:\n",
    "        plt.imshow(image_npa[range_z,:,:], extent=extent, cmap=plt.cm.Greys_r)\n",
    "    plt.title('Axial image')\n",
    "    plt.axis('off')\n",
    "    plt.show() # Draw the axial image\n",
    "    return\n",
    "\n",
    "def imshow_sagital(range_y, image_itk, flip = False):#, image_itk):\n",
    "    # Scale the image with the pixel size and spacing in mm\n",
    "    spacing = image_itk.GetSpacing() # scale in mm\n",
    "    size = image_itk.GetSize()       # pixel width and height\n",
    "    extent = (0, np.ceil(spacing[1]*size[1]), np.ceil(spacing[2]*size[2]), 0) #image limits\n",
    "    \n",
    "    image_npa = sitk.GetArrayViewFromImage(image_itk) # get numpy array\n",
    "    \n",
    "    # Create a figure with the sagital\n",
    "    if flip:\n",
    "        plt.imshow(image_npa[::-1,:,-range_y], extent=extent, cmap=plt.cm.Greys_r)\n",
    "    else:\n",
    "        plt.imshow(image_npa[:,:,range_y], extent=extent, cmap=plt.cm.Greys_r)\n",
    "    plt.title('Sagital image')\n",
    "    plt.axis('off')\n",
    "    plt.show() # Draw the sagital image\n",
    "    return\n",
    "\n",
    "def imshow_coronal(range_x, image_itk, flip = False):#, image_itk):\n",
    "    # Scale the image with the pixel size and spacing in mm\n",
    "    spacing = image_itk.GetSpacing() # scale in mm\n",
    "    size = image_itk.GetSize()       # pixel width and height\n",
    "    extent = (0, np.ceil(spacing[0]*size[0]), np.ceil(spacing[2]*size[2]), 0) # image limits\n",
    "    \n",
    "    image_npa = sitk.GetArrayViewFromImage(image_itk) # get numpy array\n",
    "    \n",
    "    # Create a figure with the coronal\n",
    "    if flip:\n",
    "        plt.imshow(image_npa[::-1,-range_x,:], extent=extent, cmap=plt.cm.Greys_r)\n",
    "    else:\n",
    "        plt.imshow(image_npa[:,range_x,:], extent=extent, cmap=plt.cm.Greys_r)\n",
    "    plt.title('Coronal image')\n",
    "    plt.axis('off')\n",
    "    plt.show()\n",
    "    return"
   ]
  },
  {
   "cell_type": "markdown",
   "metadata": {},
   "source": [
    "These functions can be used to display the loaded 3D images. Test each image by removing the comment line.\n",
    "\n",
    "<b>Note:</b> These functions are stored in a local file called [local_utils.py](./local_utils.py) for further usage."
   ]
  },
  {
   "cell_type": "code",
   "execution_count": 14,
   "metadata": {},
   "outputs": [
    {
     "data": {
      "application/vnd.jupyter.widget-view+json": {
       "model_id": "62ccb8d4e399490c9fa6e4b23074d980",
       "version_major": 2,
       "version_minor": 0
      },
      "text/plain": [
       "interactive(children=(IntSlider(value=27, description='range_z', max=55), Checkbox(value=False, description='f…"
      ]
     },
     "metadata": {},
     "output_type": "display_data"
    },
    {
     "data": {
      "application/vnd.jupyter.widget-view+json": {
       "model_id": "af754bca546d4e0981f8f5d70ac9f584",
       "version_major": 2,
       "version_minor": 0
      },
      "text/plain": [
       "interactive(children=(IntSlider(value=255, description='range_y', max=511), Checkbox(value=False, description=…"
      ]
     },
     "metadata": {},
     "output_type": "display_data"
    },
    {
     "data": {
      "application/vnd.jupyter.widget-view+json": {
       "model_id": "887e72c8b1254cbd8a6dbbf21e461ec0",
       "version_major": 2,
       "version_minor": 0
      },
      "text/plain": [
       "interactive(children=(IntSlider(value=255, description='range_x', max=511), Checkbox(value=False, description=…"
      ]
     },
     "metadata": {},
     "output_type": "display_data"
    }
   ],
   "source": [
    "# image = sitk.ReadImage(prefix + 'training_001_mr_T1.mha', sitk.sitkFloat32)\n",
    "# image = sitk.ReadImage(prefix + 'training_001_ct.mha', sitk.sitkFloat32)\n",
    "# image = sitk.ReadImage(prefix + 'mni_icbm152_t1_tal_nlin_asym_09a.nii', sitk.sitkFloat32)\n",
    "image = sitk.ReadImage(prefix + 'lungs_ct.nii', sitk.sitkFloat32)\n",
    "\n",
    "interact(imshow_axial, range_z =(0,image.GetSize()[2]-1), image_itk = fixed(image));\n",
    "interact(imshow_sagital, range_y =(0,image.GetSize()[1]-1), image_itk = fixed(image));\n",
    "interact(imshow_coronal, range_x =(0,image.GetSize()[0]-1), image_itk = fixed(image));"
   ]
  },
  {
   "cell_type": "markdown",
   "metadata": {},
   "source": [
    "## Extracting a Slice from a 3D Image\n",
    "\n",
    "Voxel values can also be accesed with array index. This allows to easily extract slices from 3D images. The next example show this:"
   ]
  },
  {
   "cell_type": "code",
   "execution_count": 15,
   "metadata": {
    "scrolled": true
   },
   "outputs": [
    {
     "data": {
      "image/png": "[encoded data removed]",
      "text/plain": [
       "<Figure size 432x288 with 1 Axes>"
      ]
     },
     "metadata": {
      "needs_background": "light"
     },
     "output_type": "display_data"
    }
   ],
   "source": [
    "slide = image[:,:,14]\n",
    "imshow_2d(slide)"
   ]
  },
  {
   "cell_type": "markdown",
   "metadata": {},
   "source": [
    "The slide can be save as a 2D image in a regular format."
   ]
  },
  {
   "cell_type": "code",
   "execution_count": 16,
   "metadata": {},
   "outputs": [],
   "source": [
    "sitk.WriteImage(slide, prefix + 'slide.nii')"
   ]
  },
  {
   "cell_type": "markdown",
   "metadata": {},
   "source": [
    "## Plot in 3D\n",
    "\n",
    "The library ipyvolume is used to plot in 3D in a jupyter notebook.\n",
    "\n",
    "The function imshow_3d() is defined to plot a sitk.Image."
   ]
  },
  {
   "cell_type": "code",
   "execution_count": 17,
   "metadata": {},
   "outputs": [],
   "source": [
    "# !pip install ipyvolume    # install ipyvolume in colabs\n",
    "\n",
    "import ipyvolume as ipv   # library to visualize 3D volumes.\n",
    "\n",
    "def imshow_3d(image_itk, controls = False):\n",
    "    # Function to show a 3D image with ipyvolume\n",
    "    # Input: sitk.Image\n",
    "    # Output: None\n",
    "    volume = sitk.GetArrayFromImage(image_itk) # get numpy array\n",
    "    \n",
    "    # Adjusting the proper scale of the image\n",
    "    spacing = image_itk.GetSpacing() # scale in mm\n",
    "    size = image_itk.GetSize()       # pixel width and height\n",
    "    extent = [[0, np.ceil(spacing[0]*size[0])],[0, np.ceil(spacing[1]*size[1])], \n",
    "              [0, np.ceil(spacing[2]*size[2])]] # image limits\n",
    "    mx = np.max(np.max(extent))\n",
    "    mn = np.min(np.min(extent))\n",
    "    \n",
    "    # Plot the volume\n",
    "    ipv.figure()\n",
    "    vshow = ipv.volshow(volume, extent = extent, controls = controls)\n",
    "    # vshow = ipv.volshow(volume, opacity=0.03, level_width=0.1, data_min=0, data_max=1)\n",
    "    ipv.xyzlim(mn, mx)\n",
    "    ipv.show()\n",
    "    return"
   ]
  },
  {
   "cell_type": "markdown",
   "metadata": {},
   "source": [
    "<b>Note:</b> This function is stored in a local file called [local_utils.py](./local_utils.py) for further usage.\n",
    "\n",
    "Now, the previous images can be plotted."
   ]
  },
  {
   "cell_type": "code",
   "execution_count": 18,
   "metadata": {},
   "outputs": [
    {
     "data": {
      "application/vnd.jupyter.widget-view+json": {
       "model_id": "03bf199aa6a1421a86c4c987dfa7e163",
       "version_major": 2,
       "version_minor": 0
      },
      "text/plain": [
       "VBox(children=(Figure(camera=PerspectiveCamera(fov=46.0, position=(0.0, 0.0, 2.0), quaternion=(0.0, 0.0, 0.0, …"
      ]
     },
     "metadata": {},
     "output_type": "display_data"
    }
   ],
   "source": [
    "imshow_3d(image_nii)"
   ]
  },
  {
   "cell_type": "code",
   "execution_count": 22,
   "metadata": {},
   "outputs": [
    {
     "data": {
      "application/vnd.jupyter.widget-view+json": {
       "model_id": "28c1ea773a014b0f923a82efbc5f0977",
       "version_major": 2,
       "version_minor": 0
      },
      "text/plain": [
       "VBox(children=(VBox(children=(HBox(children=(Label(value='levels:'), FloatSlider(value=0.1, max=1.0, step=0.00…"
      ]
     },
     "metadata": {},
     "output_type": "display_data"
    }
   ],
   "source": [
    "imshow_3d(image_dcm, controls = True)"
   ]
  },
  {
   "cell_type": "markdown",
   "metadata": {},
   "source": [
    "### Note: The functions imshow_axial( ), imshow_sagital(), imshow_coronal and imshow_3d are stored in the local file utils.py"
   ]
  }
 ],
 "metadata": {
  "kernelspec": {
   "display_name": "Python 3",
   "language": "python",
   "name": "python3"
  },
  "language_info": {
   "codemirror_mode": {
    "name": "ipython",
    "version": 3
   },
   "file_extension": ".py",
   "mimetype": "text/x-python",
   "name": "python",
   "nbconvert_exporter": "python",
   "pygments_lexer": "ipython3",
   "version": "3.7.2"
  }
 },
 "nbformat": 4,
 "nbformat_minor": 2
}
