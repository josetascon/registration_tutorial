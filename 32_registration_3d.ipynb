{
 "cells": [
  {
   "cell_type": "markdown",
   "metadata": {},
   "source": [
    "<h1><center>SimpleITK Tutorial</center></h1>\n",
    "\n",
    "# Registration of 3D Images\n",
    "\n",
    "Author: José D. Tascón-Vidarte \\\n",
    "Email: jota@di.ku.dk \\\n",
    "University of Copenhagen\n",
    "\n",
    "Objectives:\n",
    "- Learn how to register 3D images\n",
    "\n",
    "The documentation of SimpleITK is available at https://itk.org/SimpleITKDoxygen100/html/index.html\n",
    "\n",
    "This tutorial is based on the Notebooks provided by the Insight Software Consortium. http://insightsoftwareconsortium.github.io/SimpleITK-Notebooks/"
   ]
  },
  {
   "cell_type": "markdown",
   "metadata": {},
   "source": [
    "##  Cloning files\n",
    "\n",
    "Open the files to be used from github."
   ]
  },
  {
   "cell_type": "code",
   "execution_count": 1,
   "metadata": {},
   "outputs": [],
   "source": [
    "# !rm -rf /content/registration_tutorial/\n",
    "# !git clone https://github.com/josetascon/registration_tutorial.git"
   ]
  },
  {
   "cell_type": "markdown",
   "metadata": {},
   "source": [
    "## Import libraries\n",
    "Import the libraries to be used."
   ]
  },
  {
   "cell_type": "code",
   "execution_count": 5,
   "metadata": {},
   "outputs": [],
   "source": [
    "# !pip install simpleitk           # install simpleitk in colabs\n",
    "\n",
    "import SimpleITK as sitk         # simpleitk library\n",
    "import sys                       # sys library, used to include local py files\n",
    "import numpy as np               # array and matrix library\n",
    "import matplotlib.pyplot as plt  # plot library\n",
    "\n",
    "from ipywidgets import interact, fixed # jupyter widgets libraries\n",
    "from IPython.display import clear_output # jupyter clean out\n",
    "\n",
    "# sys.path.insert(0, '/content/registration_tutorial/') # local library path\n",
    "from local_utils import *"
   ]
  },
  {
   "cell_type": "markdown",
   "metadata": {},
   "source": [
    "## The Registration Problem\n",
    "\n",
    "Having two images, a reference (fixed) image $I_{1}(x)$ and an input (moving) image $I_{2}(x)$, find a transformation $\\phi(x)$ that maps $I_{2}$ into image $I_{1}$ in order to them to be similar.\n",
    "\n",
    "Therefore, registration consist of finding a transformation between images. In this notebook only rigid or affine transformation are used."
   ]
  },
  {
   "cell_type": "markdown",
   "metadata": {},
   "source": [
    "## Image Registration Framework in SimpleITK\n",
    "\n",
    "There are many options for creating an instance of the registration framework, all of which are configured in SimpleITK via methods of the <a href=\"http://www.itk.org/SimpleITKDoxygen/html/classitk_1_1simple_1_1ImageRegistrationMethod.html\">ImageRegistrationMethod</a> class. This class encapsulates many of the components available in ITK for constructing a registration instance.\n",
    "\n",
    "![Registration](./images/docs/itk_registration_framework.png \"Registration Framework\")\n",
    "\n",
    "In ITK v4 the registration method accepts three transformations (if you look at the diagram above you will only see two transformations, Moving transform represents $T_{opt} \\circ T_m$):\n",
    "* SetInitialTransform, $T_{opt}$ - composed with the moving initial transform, maps points from the virtual image domain to the moving image domain, modified during optimization. \n",
    "* SetFixedInitialTransform $T_f$- maps points from the virtual image domain to the fixed image domain, never modified.\n",
    "* SetMovingInitialTransform $T_m$- maps points from the virtual image domain to the moving image domain, never modified.\n",
    "\n",
    "The transformation that maps points from the fixed to moving image domains is thus: $^M\\mathbf{p}  = T_{opt}(T_m(T_f^{-1}(^F\\mathbf{p})))$"
   ]
  },
  {
   "cell_type": "markdown",
   "metadata": {},
   "source": [
    "## Multiresolution Registration.\n",
    "\n",
    "In order to achieve a improvement in the optimization procedure it is common to register images in a multiresolution style. This algorithm start with the same images with lower resolution. Since there is a significant reduction in the amount of data this lower resolution images converge faster. The transformation result of this registration is then used as the input of the next resolution. The algorithm reach the original resolution and find the proper transformation. This scheme is depicted in the figure, where the lower resolution images are shown as a pyramid.\n",
    "\n",
    "![Registration](./images/docs/pyramid_registration.png \"Multiresolution Framework\")\n",
    "\n",
    "SimpleITK incorporate this kind of multiresolution algorithm. The features or the multiresolution framework are:\n",
    "* Multi scale - specify both scale, and how much to smooth with respect to original image.</li>\n",
    "* Initial transformation modified in place, so in the end we have the same type of transformation in hand.\n",
    "\n"
   ]
  },
  {
   "cell_type": "markdown",
   "metadata": {},
   "source": [
    "## Load Images\n",
    "\n",
    "In the following example we use images form the Retrospective Image Registration Evaluation (<a href=\"http://www.insight-journal.org/rire/\">RIRE</a>) project.\n",
    "\n",
    "In particular, the training_001 images are used. The CT Scan and the MRI T1. "
   ]
  },
  {
   "cell_type": "code",
   "execution_count": 6,
   "metadata": {},
   "outputs": [
    {
     "name": "stdout",
     "output_type": "stream",
     "text": [
      "\n",
      "===== Image Information =====\n",
      "Pixel type: \t\t64-bit float\n",
      "Pixel channels: \t1\n",
      "Dimensions: \t\t3\n",
      "Size: \t\t\t(512, 512, 29)\n",
      "Length (mm): \t\t(0.653595, 0.653595, 4.0)\n",
      "Total Elements: \t7602176\n",
      "\n",
      "\n",
      "===== Image Information =====\n",
      "Pixel type: \t\t64-bit float\n",
      "Pixel channels: \t1\n",
      "Dimensions: \t\t3\n",
      "Size: \t\t\t(256, 256, 26)\n",
      "Length (mm): \t\t(1.25, 1.25, 4.0)\n",
      "Total Elements: \t1703936\n",
      "\n"
     ]
    },
    {
     "data": {
      "application/vnd.jupyter.widget-view+json": {
       "model_id": "39e708125c5540188554f18b9573c89f",
       "version_major": 2,
       "version_minor": 0
      },
      "text/plain": [
       "interactive(children=(IntSlider(value=14, description='range_z', max=28), Output()), _dom_classes=('widget-int…"
      ]
     },
     "metadata": {},
     "output_type": "display_data"
    },
    {
     "data": {
      "application/vnd.jupyter.widget-view+json": {
       "model_id": "e8c874bab78d4719ae72847bc3381261",
       "version_major": 2,
       "version_minor": 0
      },
      "text/plain": [
       "interactive(children=(IntSlider(value=12, description='range_z', max=25), Output()), _dom_classes=('widget-int…"
      ]
     },
     "metadata": {},
     "output_type": "display_data"
    }
   ],
   "source": [
    "# Read the image\n",
    "dim = 3 # dimension 2 (images in 2D)\n",
    "\n",
    "prefix = './images/'\n",
    "# prefix = '/content/registration_tutorial/images/'\n",
    "\n",
    "# Load the fixed image\n",
    "fixed_image = sitk.ReadImage(prefix + 'training_001_ct.mha', sitk.sitkFloat64) # load as double\n",
    "\n",
    "# Load the moving image\n",
    "moving_image = sitk.ReadImage(prefix + 'training_001_mr_T1.mha', sitk.sitkFloat64) # load as double\n",
    "\n",
    "# Print the information\n",
    "print(image_info(fixed_image))  # Fixed Image. CT Scan\n",
    "print(image_info(moving_image)) # Moving image. MRI T1\n",
    "\n",
    "# Plot the images with the axial point of view\n",
    "interact(imshow_axial, range_z =(0,fixed_image.GetSize()[2]-1), image_itk = fixed(fixed_image));\n",
    "interact(imshow_axial, range_z =(0,moving_image.GetSize()[2]-1), image_itk = fixed(moving_image));"
   ]
  },
  {
   "cell_type": "markdown",
   "metadata": {},
   "source": [
    "## Utility functions\n",
    "\n",
    "The next functions are used with the registration algorithm to plot the metric values during the optimization procedure."
   ]
  },
  {
   "cell_type": "code",
   "execution_count": 16,
   "metadata": {},
   "outputs": [],
   "source": [
    "# Callback invoked when the StartEvent happens, sets up our new data.\n",
    "def start_register_plot():\n",
    "    global metric_values, multires_iterations\n",
    "    \n",
    "    metric_values = []\n",
    "    multires_iterations = []\n",
    "\n",
    "# Callback invoked when the EndEvent happens, do cleanup of data and figure.\n",
    "def end_register_plot():\n",
    "    global metric_values, multires_iterations\n",
    "    \n",
    "    del metric_values\n",
    "    del multires_iterations\n",
    "    # Close figure, we don't want to get a duplicate of the plot latter on.\n",
    "    plt.close()\n",
    "\n",
    "# Callback invoked when the IterationEvent happens, update our data and display new figure.    \n",
    "def plot_register_values(registration_method):\n",
    "    global metric_values, multires_iterations\n",
    "    \n",
    "    metric_values.append(registration_method.GetMetricValue())                                       \n",
    "    # Clear the output area (wait=True, to reduce flickering), and plot current data\n",
    "    clear_output(wait=True)\n",
    "    # Plot the similarity metric values\n",
    "    plt.plot(metric_values, 'r')\n",
    "    plt.plot(multires_iterations, [metric_values[index] for index in multires_iterations], 'b*')\n",
    "    plt.xlabel('Iteration Number',fontsize=12)\n",
    "    plt.ylabel('Metric Value',fontsize=12)\n",
    "    plt.show()\n",
    "    \n",
    "# Callback invoked when the sitkMultiResolutionIterationEvent happens, update the index into the \n",
    "# metric_values list. \n",
    "def update_multires_iterations():\n",
    "    global metric_values, multires_iterations\n",
    "    multires_iterations.append(len(metric_values))\n",
    "    \n"
   ]
  },
  {
   "cell_type": "markdown",
   "metadata": {},
   "source": [
    "## Axial View of Both Images\n",
    "\n",
    "We can plot the images with a variable alpha acting as opacity level. When the alpha is zero the fixed image is visualized, and when the alpha is one the moving image is shown."
   ]
  },
  {
   "cell_type": "code",
   "execution_count": 26,
   "metadata": {},
   "outputs": [],
   "source": [
    "# Callback invoked by the IPython interact method for scrolling and modifying the alpha blending\n",
    "# of an image stack of two images that occupy the same physical space. \n",
    "def display_images_with_alpha(image_z, alpha, fixed, moving):\n",
    "    img = (1.0 - alpha)*fixed[:,:,image_z] + alpha*moving[:,:,image_z] \n",
    "    plt.imshow(sitk.GetArrayViewFromImage(img),cmap=plt.cm.Greys_r);\n",
    "    plt.axis('off')\n",
    "    plt.show()"
   ]
  },
  {
   "cell_type": "markdown",
   "metadata": {},
   "source": [
    "## Registration Algorithm\n",
    "\n",
    "Again, the registration algorithm will use the two images to find the transformation. Since the images to be used have different information (histograms), the registration algorithm will use mutual information as the similarity metric.\n",
    "\n",
    "Additionally, we will add the multiresolution framework to the registration method. Another feature that is allowed in SimpleITK is to reduce the number of voxels used in the metric. This is perform by sampling the voxels (typically random sampling) and reducing the amount of data involved in the computation. This feature will be tested also\n",
    "\n",
    "The next function register two images with the mutual information as metric and the gradient descent as the optimizer. "
   ]
  },
  {
   "cell_type": "code",
   "execution_count": 8,
   "metadata": {},
   "outputs": [],
   "source": [
    "def registration_mi(fixed_image, moving_image, transform, \n",
    "                    interpolator = sitk.sitkLinear,\n",
    "                    bins = 50, sampling = 0.02,\n",
    "                    num_iterations = 50, learning_rate = 1.5, \n",
    "                    multiresolution= True, verbose = True, plot = True):\n",
    "    '''\n",
    "    Image regristration with metric mutual information (mi)\n",
    "    Input:\n",
    "        fixed_image: sitk.Image\n",
    "        moving_image: sitk.Image\n",
    "    Output:\n",
    "        sitk.Transform\n",
    "    '''\n",
    "    # Define the registration object class\n",
    "    registration_method = sitk.ImageRegistrationMethod()\n",
    "\n",
    "    # Set transform, intepolation and metric\n",
    "    registration_method.SetInitialTransform(transform)\n",
    "    registration_method.SetInterpolator(interpolator)\n",
    "    registration_method.SetMetricAsMattesMutualInformation(numberOfHistogramBins=bins)\n",
    "    \n",
    "    # Set the sampling method\n",
    "    registration_method.SetMetricSamplingStrategy(registration_method.RANDOM)\n",
    "    registration_method.SetMetricSamplingPercentage(sampling)\n",
    "    \n",
    "    # Set optimizer as gradient descent\n",
    "    registration_method.SetOptimizerAsGradientDescent(learningRate=learning_rate, \n",
    "        numberOfIterations=num_iterations, convergenceMinimumValue=1e-6, convergenceWindowSize=10)\n",
    "    registration_method.SetOptimizerScalesFromPhysicalShift() # Set appropiate scales\n",
    "    \n",
    "    # Setup for the multi-resolution framework.\n",
    "    if multiresolution:\n",
    "        registration_method.SetShrinkFactorsPerLevel(shrinkFactors = [4,2,1])\n",
    "        registration_method.SetSmoothingSigmasPerLevel(smoothingSigmas=[2,1,0])\n",
    "        registration_method.SmoothingSigmasAreSpecifiedInPhysicalUnitsOn()\n",
    "\n",
    "    # Enable plotting\n",
    "    if plot:\n",
    "        registration_method.AddCommand(sitk.sitkStartEvent, start_register_plot)\n",
    "        registration_method.AddCommand(sitk.sitkEndEvent, end_register_plot)\n",
    "        if multiresolution: registration_method.AddCommand(sitk.sitkMultiResolutionIterationEvent, \n",
    "                                                           update_multires_iterations)\n",
    "        registration_method.AddCommand(sitk.sitkIterationEvent, \n",
    "                                   lambda: plot_register_values(registration_method))\n",
    "    \n",
    "    transform_estimated = registration_method.Execute(fixed_image, moving_image)\n",
    "    \n",
    "    # Print the information about the optimization in the registration \n",
    "    if verbose:\n",
    "        info = '\\n===== Registration Info ====='\n",
    "        info += '\\nFinal metric value: \\t' + str(registration_method.GetMetricValue())\n",
    "        info += '\\nLast iteration: \\t' + str(registration_method.GetOptimizerIteration())\n",
    "        info += '\\nStop condition: \\n'\n",
    "        info += (str(registration_method.GetOptimizerStopConditionDescription()))\n",
    "        info += '\\n'\n",
    "        print(info)\n",
    "    \n",
    "    return transform_estimated"
   ]
  },
  {
   "cell_type": "markdown",
   "metadata": {},
   "source": [
    "The registration algorithm is ready to use."
   ]
  },
  {
   "cell_type": "markdown",
   "metadata": {},
   "source": [
    "## Initial Transform\n",
    "\n",
    "We proceed to initilize the transformation. We will use a rigid transformation."
   ]
  },
  {
   "cell_type": "code",
   "execution_count": 9,
   "metadata": {
    "scrolled": false
   },
   "outputs": [
    {
     "name": "stdout",
     "output_type": "stream",
     "text": [
      "\n",
      "===== Transform Info =====\n",
      "Transform type: \tEuler3DTransform\n",
      "Dimensions: \t\t3\n",
      "Parameters: \t\t(0.0, 0.0, 0.0, -7.618522500000012, -7.618522500000012, -6.0)\n",
      "\n"
     ]
    }
   ],
   "source": [
    "initial_transform = sitk.CenteredTransformInitializer(fixed_image, \n",
    "                                                      moving_image, \n",
    "                                                      sitk.Euler3DTransform(), \n",
    "                                                      sitk.CenteredTransformInitializerFilter.GEOMETRY)\n",
    "\n",
    "print(transform_info(initial_transform))"
   ]
  },
  {
   "cell_type": "markdown",
   "metadata": {},
   "source": [
    "The initial estimation is visualized with the utility function with alpha defined before. To be able to plot both images in the same space is necesarry to put the moving image in the space of the fixed. This resampling is only made for visualization purposes."
   ]
  },
  {
   "cell_type": "code",
   "execution_count": 10,
   "metadata": {},
   "outputs": [
    {
     "data": {
      "application/vnd.jupyter.widget-view+json": {
       "model_id": "4abc9d75a2e5447da4d25519c8823dca",
       "version_major": 2,
       "version_minor": 0
      },
      "text/plain": [
       "interactive(children=(IntSlider(value=14, description='image_z', max=29), FloatSlider(value=0.5, description='…"
      ]
     },
     "metadata": {},
     "output_type": "display_data"
    }
   ],
   "source": [
    "# Resample the moving image to the fixed image space\n",
    "moving_resampled = sitk.Resample(moving_image, fixed_image, initial_transform, \n",
    "                                 sitk.sitkLinear, 0.0, moving_image.GetPixelID())\n",
    "\n",
    "# Visualize the image in the fixed image space\n",
    "interact(display_images_with_alpha, image_z=(0,fixed_image.GetSize()[2]), \n",
    "         alpha=(0.0,1.0,0.05), fixed = fixed(fixed_image), moving=fixed(moving_resampled));"
   ]
  },
  {
   "cell_type": "markdown",
   "metadata": {},
   "source": [
    "Since we correctly initialize the transformation, we proceed to run the registration algorithm."
   ]
  },
  {
   "cell_type": "code",
   "execution_count": 11,
   "metadata": {
    "scrolled": false
   },
   "outputs": [
    {
     "data": {
      "image/png": "[encoded data removed]",
      "text/plain": [
       "<Figure size 432x288 with 1 Axes>"
      ]
     },
     "metadata": {
      "needs_background": "light"
     },
     "output_type": "display_data"
    },
    {
     "name": "stdout",
     "output_type": "stream",
     "text": [
      "\n",
      "===== Registration Info =====\n",
      "Final metric value: \t-0.5655408250240676\n",
      "Last iteration: \t9\n",
      "Stop condition: \n",
      "GradientDescentOptimizerv4Template: Convergence checker passed at iteration 9.\n",
      "\n"
     ]
    }
   ],
   "source": [
    "final_transform = registration_mi(fixed_image, moving_image, initial_transform,\n",
    "                               bins = 50, num_iterations = 100)"
   ]
  },
  {
   "cell_type": "markdown",
   "metadata": {},
   "source": [
    "Form the plot we can observe how the multiresolution framework works. The registration algorithm goes from images scale down 4 times, then 2 and finally at full resolution.\n",
    "\n",
    "Always remember to see why the optimizer terminated. This will help you understand whether termination is too early, either due to thresholds being too tight, early termination due to small number of iterations - numberOfIterations, or too loose, early termination due to large value for minimal change in similarity measure - convergenceMinimumValue)    "
   ]
  },
  {
   "cell_type": "markdown",
   "metadata": {},
   "source": [
    "The computed transform is:"
   ]
  },
  {
   "cell_type": "code",
   "execution_count": 14,
   "metadata": {},
   "outputs": [
    {
     "name": "stdout",
     "output_type": "stream",
     "text": [
      "\n",
      "===== Transform Info =====\n",
      "Transform type: \tEuler3DTransform\n",
      "Dimensions: \t\t3\n",
      "Parameters: \t\t(0.021248824107106472, -0.005986501697035448, -0.08073511199774476, 21.033862419096508, -34.196077569876664, -23.926569742540234)\n",
      "\n"
     ]
    }
   ],
   "source": [
    "print(transform_info(initial_transform))"
   ]
  },
  {
   "cell_type": "markdown",
   "metadata": {},
   "source": [
    "## Visualize the Registration in 2D\n",
    "\n",
    "The result in visualized in here."
   ]
  },
  {
   "cell_type": "code",
   "execution_count": 12,
   "metadata": {},
   "outputs": [
    {
     "data": {
      "application/vnd.jupyter.widget-view+json": {
       "model_id": "854781c011664aa39c6c73b5b27dcc37",
       "version_major": 2,
       "version_minor": 0
      },
      "text/plain": [
       "interactive(children=(IntSlider(value=14, description='image_z', max=29), FloatSlider(value=0.5, description='…"
      ]
     },
     "metadata": {},
     "output_type": "display_data"
    }
   ],
   "source": [
    "# Resample the moving image to the fixed image space\n",
    "moving_resampled = sitk.Resample(moving_image, fixed_image, final_transform, \n",
    "                                 sitk.sitkLinear, 0.0, moving_image.GetPixelID())\n",
    "\n",
    "# Visualize the image in the fixed image space\n",
    "interact(display_images_with_alpha, image_z=(0,fixed_image.GetSize()[2]), \n",
    "         alpha=(0.0,1.0,0.05), fixed = fixed(fixed_image), moving=fixed(moving_resampled));"
   ]
  },
  {
   "cell_type": "markdown",
   "metadata": {},
   "source": [
    "## Visualize Registration in 3D\n",
    "\n",
    "The registration process can be visualized in a single image in 3D. We use the same principle as the axial image with alpha.\n",
    "\n",
    "Here, a function to visualize the registration is defined."
   ]
  },
  {
   "cell_type": "code",
   "execution_count": 30,
   "metadata": {},
   "outputs": [],
   "source": [
    "def display_volumes_with_alpha(alpha, fixed, moving):\n",
    "    img = (1.0 - alpha)*fixed[:,:,:] + alpha*moving[:,:,:]\n",
    "    imshow_3d(img, controls = True)"
   ]
  },
  {
   "cell_type": "markdown",
   "metadata": {},
   "source": [
    "Now, the visualization function is used."
   ]
  },
  {
   "cell_type": "code",
   "execution_count": 31,
   "metadata": {},
   "outputs": [
    {
     "data": {
      "application/vnd.jupyter.widget-view+json": {
       "model_id": "32dfb82537b14dc0b33cbef8a3858c0b",
       "version_major": 2,
       "version_minor": 0
      },
      "text/plain": [
       "interactive(children=(FloatSlider(value=0.5, description='alpha', max=1.0), Output()), _dom_classes=('widget-i…"
      ]
     },
     "metadata": {},
     "output_type": "display_data"
    }
   ],
   "source": [
    "# Resample the moving image to the fixed image space\n",
    "moving_resampled = sitk.Resample(moving_image, fixed_image, final_transform, \n",
    "                                 sitk.sitkLinear, 0.0, moving_image.GetPixelID())\n",
    "\n",
    "# Visualize the image in the fixed image space\n",
    "interact(display_volumes_with_alpha, image_z=(0,fixed_image.GetSize()[2]), \n",
    "         alpha=(0.0,1.0,0.1), fixed = fixed(fixed_image), moving=fixed(moving_resampled));"
   ]
  },
  {
   "cell_type": "markdown",
   "metadata": {},
   "source": [
    "## Write the Results\n",
    "\n",
    "If we are satisfied with the results, we can store the solution in files."
   ]
  },
  {
   "cell_type": "code",
   "execution_count": 29,
   "metadata": {},
   "outputs": [],
   "source": [
    "prefix = './images/'\n",
    "# prefix = '/content/registration_tutorial/images/'\n",
    "\n",
    "sitk.WriteImage(moving_resampled, prefix + 'training_001_mr_T1_registered.mha')\n",
    "sitk.WriteTransform(final_transform, prefix + 'RIRE_training_001_CT_2_mr_T1.tfm')"
   ]
  }
 ],
 "metadata": {
  "kernelspec": {
   "display_name": "Python 3",
   "language": "python",
   "name": "python3"
  },
  "language_info": {
   "codemirror_mode": {
    "name": "ipython",
    "version": 3
   },
   "file_extension": ".py",
   "mimetype": "text/x-python",
   "name": "python",
   "nbconvert_exporter": "python",
   "pygments_lexer": "ipython3",
   "version": "3.7.2"
  }
 },
 "nbformat": 4,
 "nbformat_minor": 2
}
